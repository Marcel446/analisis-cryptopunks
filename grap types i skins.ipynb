{
 "cells": [
  {
   "cell_type": "code",
   "execution_count": 66,
   "metadata": {},
   "outputs": [],
   "source": [
    "import mysql\n",
    "import pandas as pd\n",
    "import mysql.connector\n",
    "from mysql.connector.optionfiles import MySQLOptionsParser\n",
    "\n",
    "mydb = mysql.connector.connect(\n",
    "    host = '127.0.0.1',\n",
    "    port = int(3306),\n",
    "    user = 'root',\n",
    "    password = '1111',\n",
    "    database = 'mydb'\n",
    "    )\n",
    "mycursor = mydb.cursor(buffered = True)\n",
    "\n",
    "import scipy.stats as stats\n",
    "import matplotlib.pyplot as plt\n",
    "import seaborn as sns"
   ]
  },
  {
   "cell_type": "code",
   "execution_count": 2,
   "metadata": {},
   "outputs": [],
   "source": [
    "sql_query = pd.read_sql_query('select * from transaction_history where Amount_dollars != 0;', mydb)"
   ]
  },
  {
   "cell_type": "code",
   "execution_count": 3,
   "metadata": {},
   "outputs": [],
   "source": [
    "df_transactions = pd.DataFrame(sql_query)"
   ]
  },
  {
   "cell_type": "code",
   "execution_count": 127,
   "metadata": {},
   "outputs": [],
   "source": [
    "iqr = stats.iqr(df_transactions.Amount_dollars)"
   ]
  },
  {
   "cell_type": "code",
   "execution_count": 4,
   "metadata": {},
   "outputs": [],
   "source": [
    "df_t_mod = df_transactions"
   ]
  },
  {
   "cell_type": "code",
   "execution_count": 7,
   "metadata": {},
   "outputs": [],
   "source": [
    "df_t_mod = df_transactions.drop(df_transactions.Amount_dollars[df_transactions.Amount_dollars >(9.136625e+04 + iqr)].index)"
   ]
  },
  {
   "cell_type": "code",
   "execution_count": 47,
   "metadata": {
    "scrolled": true
   },
   "outputs": [],
   "source": [
    "df_big = df_transactions"
   ]
  },
  {
   "cell_type": "code",
   "execution_count": 229,
   "metadata": {},
   "outputs": [],
   "source": [
    "df_big = df_transactions.drop(df_transactions.Amount_dollars[df_transactions.Amount_dollars <(9.136625e+04 + iqr)].index)"
   ]
  },
  {
   "cell_type": "code",
   "execution_count": 230,
   "metadata": {
    "collapsed": true
   },
   "outputs": [
    {
     "data": {
      "text/html": [
       "<div>\n",
       "<style scoped>\n",
       "    .dataframe tbody tr th:only-of-type {\n",
       "        vertical-align: middle;\n",
       "    }\n",
       "\n",
       "    .dataframe tbody tr th {\n",
       "        vertical-align: top;\n",
       "    }\n",
       "\n",
       "    .dataframe thead th {\n",
       "        text-align: right;\n",
       "    }\n",
       "</style>\n",
       "<table border=\"1\" class=\"dataframe\">\n",
       "  <thead>\n",
       "    <tr style=\"text-align: right;\">\n",
       "      <th></th>\n",
       "      <th>id</th>\n",
       "      <th>id_punk_tipus</th>\n",
       "      <th>owner</th>\n",
       "      <th>new_owner</th>\n",
       "      <th>transaction</th>\n",
       "      <th>amount</th>\n",
       "      <th>Amount_dollars</th>\n",
       "      <th>type_transaction_id</th>\n",
       "    </tr>\n",
       "  </thead>\n",
       "  <tbody>\n",
       "    <tr>\n",
       "      <th>0</th>\n",
       "      <td>1</td>\n",
       "      <td>0</td>\n",
       "      <td>0x983ace</td>\n",
       "      <td>None</td>\n",
       "      <td>2021-05-10 00:00:00</td>\n",
       "      <td>250</td>\n",
       "      <td>986975</td>\n",
       "      <td>1</td>\n",
       "    </tr>\n",
       "    <tr>\n",
       "      <th>1</th>\n",
       "      <td>2</td>\n",
       "      <td>0</td>\n",
       "      <td>0x983ace</td>\n",
       "      <td>None</td>\n",
       "      <td>2021-04-11 00:00:00</td>\n",
       "      <td>250</td>\n",
       "      <td>537855</td>\n",
       "      <td>2</td>\n",
       "    </tr>\n",
       "    <tr>\n",
       "      <th>3</th>\n",
       "      <td>4</td>\n",
       "      <td>0</td>\n",
       "      <td>0xd7510a</td>\n",
       "      <td>None</td>\n",
       "      <td>2021-02-21 00:00:00</td>\n",
       "      <td>100</td>\n",
       "      <td>193345</td>\n",
       "      <td>2</td>\n",
       "    </tr>\n",
       "    <tr>\n",
       "      <th>245</th>\n",
       "      <td>264</td>\n",
       "      <td>14</td>\n",
       "      <td>0</td>\n",
       "      <td>None</td>\n",
       "      <td>2021-02-17 00:00:00</td>\n",
       "      <td>555</td>\n",
       "      <td>1025612</td>\n",
       "      <td>4</td>\n",
       "    </tr>\n",
       "    <tr>\n",
       "      <th>246</th>\n",
       "      <td>265</td>\n",
       "      <td>14</td>\n",
       "      <td>0</td>\n",
       "      <td>None</td>\n",
       "      <td>2021-02-07 00:00:00</td>\n",
       "      <td>444</td>\n",
       "      <td>716168</td>\n",
       "      <td>4</td>\n",
       "    </tr>\n",
       "    <tr>\n",
       "      <th>...</th>\n",
       "      <td>...</td>\n",
       "      <td>...</td>\n",
       "      <td>...</td>\n",
       "      <td>...</td>\n",
       "      <td>...</td>\n",
       "      <td>...</td>\n",
       "      <td>...</td>\n",
       "      <td>...</td>\n",
       "    </tr>\n",
       "    <tr>\n",
       "      <th>113093</th>\n",
       "      <td>153725</td>\n",
       "      <td>9999</td>\n",
       "      <td>0</td>\n",
       "      <td>None</td>\n",
       "      <td>2017-07-14 00:00:00</td>\n",
       "      <td>10003</td>\n",
       "      <td>1965489</td>\n",
       "      <td>4</td>\n",
       "    </tr>\n",
       "    <tr>\n",
       "      <th>113094</th>\n",
       "      <td>153726</td>\n",
       "      <td>9999</td>\n",
       "      <td>0</td>\n",
       "      <td>None</td>\n",
       "      <td>2017-07-14 00:00:00</td>\n",
       "      <td>10002</td>\n",
       "      <td>1965293</td>\n",
       "      <td>4</td>\n",
       "    </tr>\n",
       "    <tr>\n",
       "      <th>113095</th>\n",
       "      <td>153727</td>\n",
       "      <td>9999</td>\n",
       "      <td>0</td>\n",
       "      <td>None</td>\n",
       "      <td>2017-07-14 00:00:00</td>\n",
       "      <td>10001</td>\n",
       "      <td>1965096</td>\n",
       "      <td>4</td>\n",
       "    </tr>\n",
       "    <tr>\n",
       "      <th>113097</th>\n",
       "      <td>153730</td>\n",
       "      <td>9999</td>\n",
       "      <td>0</td>\n",
       "      <td>None</td>\n",
       "      <td>2017-07-14 00:00:00</td>\n",
       "      <td>10000</td>\n",
       "      <td>1964900</td>\n",
       "      <td>4</td>\n",
       "    </tr>\n",
       "    <tr>\n",
       "      <th>113099</th>\n",
       "      <td>153733</td>\n",
       "      <td>9999</td>\n",
       "      <td>0</td>\n",
       "      <td>None</td>\n",
       "      <td>2017-07-14 00:00:00</td>\n",
       "      <td>999123</td>\n",
       "      <td>196317678</td>\n",
       "      <td>4</td>\n",
       "    </tr>\n",
       "  </tbody>\n",
       "</table>\n",
       "<p>13746 rows × 8 columns</p>\n",
       "</div>"
      ],
      "text/plain": [
       "            id  id_punk_tipus     owner new_owner          transaction  \\\n",
       "0            1              0  0x983ace      None  2021-05-10 00:00:00   \n",
       "1            2              0  0x983ace      None  2021-04-11 00:00:00   \n",
       "3            4              0  0xd7510a      None  2021-02-21 00:00:00   \n",
       "245        264             14         0      None  2021-02-17 00:00:00   \n",
       "246        265             14         0      None  2021-02-07 00:00:00   \n",
       "...        ...            ...       ...       ...                  ...   \n",
       "113093  153725           9999         0      None  2017-07-14 00:00:00   \n",
       "113094  153726           9999         0      None  2017-07-14 00:00:00   \n",
       "113095  153727           9999         0      None  2017-07-14 00:00:00   \n",
       "113097  153730           9999         0      None  2017-07-14 00:00:00   \n",
       "113099  153733           9999         0      None  2017-07-14 00:00:00   \n",
       "\n",
       "        amount  Amount_dollars  type_transaction_id  \n",
       "0          250          986975                    1  \n",
       "1          250          537855                    2  \n",
       "3          100          193345                    2  \n",
       "245        555         1025612                    4  \n",
       "246        444          716168                    4  \n",
       "...        ...             ...                  ...  \n",
       "113093   10003         1965489                    4  \n",
       "113094   10002         1965293                    4  \n",
       "113095   10001         1965096                    4  \n",
       "113097   10000         1964900                    4  \n",
       "113099  999123       196317678                    4  \n",
       "\n",
       "[13746 rows x 8 columns]"
      ]
     },
     "execution_count": 230,
     "metadata": {},
     "output_type": "execute_result"
    }
   ],
   "source": [
    "df_big"
   ]
  },
  {
   "cell_type": "code",
   "execution_count": 82,
   "metadata": {},
   "outputs": [],
   "source": [
    "df_bi_s = df_big[df_big.type_transaction_id == 3].sort_values(by = ['Amount_dollars'], ascending = False)"
   ]
  },
  {
   "cell_type": "code",
   "execution_count": 219,
   "metadata": {},
   "outputs": [],
   "source": [
    "df_big_big = df_bi_s[0:30]"
   ]
  },
  {
   "cell_type": "code",
   "execution_count": 228,
   "metadata": {},
   "outputs": [],
   "source": [
    "df_big_big.to_csv('big_transactions.csv')"
   ]
  },
  {
   "cell_type": "code",
   "execution_count": 220,
   "metadata": {},
   "outputs": [
    {
     "data": {
      "text/plain": [
       "id                     5\n",
       "id_punk_tipus          5\n",
       "owner                  5\n",
       "new_owner              5\n",
       "transaction            5\n",
       "amount                 5\n",
       "Amount_dollars         5\n",
       "type_transaction_id    5\n",
       "dtype: int64"
      ]
     },
     "execution_count": 220,
     "metadata": {},
     "output_type": "execute_result"
    }
   ],
   "source": [
    "df_big_big[df_big_big['id_punk_tipus'].isin(ape)].count()"
   ]
  },
  {
   "cell_type": "code",
   "execution_count": null,
   "metadata": {},
   "outputs": [],
   "source": [
    "df_big_big[df_big_big['id_punk_tipus'].isin(ape)].count()\n",
    "df_big_big[df_big_big['id_punk_tipus'].isin(ape)].count()\n",
    "df_big_big[df_big_big['id_punk_tipus'].isin(ape)].count()"
   ]
  },
  {
   "cell_type": "code",
   "execution_count": 221,
   "metadata": {},
   "outputs": [],
   "source": [
    "a = (3/200) *100\n",
    "b = (6/200) * 100\n",
    "c = (23/200) * 100"
   ]
  },
  {
   "cell_type": "code",
   "execution_count": 222,
   "metadata": {},
   "outputs": [
    {
     "data": {
      "text/plain": [
       "16.0"
      ]
     },
     "execution_count": 222,
     "metadata": {},
     "output_type": "execute_result"
    }
   ],
   "source": [
    "a + b + c"
   ]
  },
  {
   "cell_type": "code",
   "execution_count": 223,
   "metadata": {},
   "outputs": [],
   "source": [
    "this = [a,b,c]\n",
    "that = ['alien', 'ape', 'zombie']"
   ]
  },
  {
   "cell_type": "code",
   "execution_count": 224,
   "metadata": {},
   "outputs": [],
   "source": [
    "this_1 = pd.DataFrame(this) "
   ]
  },
  {
   "cell_type": "code",
   "execution_count": 225,
   "metadata": {},
   "outputs": [],
   "source": [
    "this_1.reset_index(inplace = True)"
   ]
  },
  {
   "cell_type": "code",
   "execution_count": 226,
   "metadata": {},
   "outputs": [],
   "source": [
    "this_1['name'] = that"
   ]
  },
  {
   "cell_type": "code",
   "execution_count": 217,
   "metadata": {},
   "outputs": [
    {
     "data": {
      "text/html": [
       "<div>\n",
       "<style scoped>\n",
       "    .dataframe tbody tr th:only-of-type {\n",
       "        vertical-align: middle;\n",
       "    }\n",
       "\n",
       "    .dataframe tbody tr th {\n",
       "        vertical-align: top;\n",
       "    }\n",
       "\n",
       "    .dataframe thead th {\n",
       "        text-align: right;\n",
       "    }\n",
       "</style>\n",
       "<table border=\"1\" class=\"dataframe\">\n",
       "  <thead>\n",
       "    <tr style=\"text-align: right;\">\n",
       "      <th></th>\n",
       "      <th>index</th>\n",
       "      <th>0</th>\n",
       "      <th>name</th>\n",
       "    </tr>\n",
       "  </thead>\n",
       "  <tbody>\n",
       "    <tr>\n",
       "      <th>0</th>\n",
       "      <td>0</td>\n",
       "      <td>1.5</td>\n",
       "      <td>alien</td>\n",
       "    </tr>\n",
       "    <tr>\n",
       "      <th>1</th>\n",
       "      <td>1</td>\n",
       "      <td>3.0</td>\n",
       "      <td>ape</td>\n",
       "    </tr>\n",
       "    <tr>\n",
       "      <th>2</th>\n",
       "      <td>2</td>\n",
       "      <td>11.5</td>\n",
       "      <td>zombie</td>\n",
       "    </tr>\n",
       "  </tbody>\n",
       "</table>\n",
       "</div>"
      ],
      "text/plain": [
       "   index     0    name\n",
       "0      0   1.5   alien\n",
       "1      1   3.0     ape\n",
       "2      2  11.5  zombie"
      ]
     },
     "execution_count": 217,
     "metadata": {},
     "output_type": "execute_result"
    }
   ],
   "source": [
    "this_1"
   ]
  },
  {
   "cell_type": "code",
   "execution_count": 218,
   "metadata": {},
   "outputs": [
    {
     "data": {
      "text/plain": [
       "<AxesSubplot:xlabel='name', ylabel='0'>"
      ]
     },
     "execution_count": 218,
     "metadata": {},
     "output_type": "execute_result"
    },
    {
     "data": {
      "image/png": "[encoded data removed]",
      "text/plain": [
       "<Figure size 432x288 with 1 Axes>"
      ]
     },
     "metadata": {
      "needs_background": "light"
     },
     "output_type": "display_data"
    }
   ],
   "source": [
    "sns.barplot(x = this_1.name, y = this_1[0])"
   ]
  },
  {
   "cell_type": "code",
   "execution_count": 232,
   "metadata": {},
   "outputs": [
    {
     "data": {
      "text/html": [
       "<div>\n",
       "<style scoped>\n",
       "    .dataframe tbody tr th:only-of-type {\n",
       "        vertical-align: middle;\n",
       "    }\n",
       "\n",
       "    .dataframe tbody tr th {\n",
       "        vertical-align: top;\n",
       "    }\n",
       "\n",
       "    .dataframe thead th {\n",
       "        text-align: right;\n",
       "    }\n",
       "</style>\n",
       "<table border=\"1\" class=\"dataframe\">\n",
       "  <thead>\n",
       "    <tr style=\"text-align: right;\">\n",
       "      <th></th>\n",
       "      <th>id</th>\n",
       "      <th>id_punk_tipus</th>\n",
       "      <th>amount</th>\n",
       "      <th>Amount_dollars</th>\n",
       "      <th>type_transaction_id</th>\n",
       "    </tr>\n",
       "  </thead>\n",
       "  <tbody>\n",
       "    <tr>\n",
       "      <th>count</th>\n",
       "      <td>1037.000000</td>\n",
       "      <td>1037.000000</td>\n",
       "      <td>1037.000000</td>\n",
       "      <td>1.037000e+03</td>\n",
       "      <td>1037.0</td>\n",
       "    </tr>\n",
       "    <tr>\n",
       "      <th>mean</th>\n",
       "      <td>76423.324012</td>\n",
       "      <td>5315.779171</td>\n",
       "      <td>122.513018</td>\n",
       "      <td>3.403718e+05</td>\n",
       "      <td>3.0</td>\n",
       "    </tr>\n",
       "    <tr>\n",
       "      <th>std</th>\n",
       "      <td>45405.069494</td>\n",
       "      <td>2825.241761</td>\n",
       "      <td>225.053038</td>\n",
       "      <td>4.729570e+05</td>\n",
       "      <td>0.0</td>\n",
       "    </tr>\n",
       "    <tr>\n",
       "      <th>min</th>\n",
       "      <td>419.000000</td>\n",
       "      <td>53.000000</td>\n",
       "      <td>46.000000</td>\n",
       "      <td>1.822400e+05</td>\n",
       "      <td>3.0</td>\n",
       "    </tr>\n",
       "    <tr>\n",
       "      <th>25%</th>\n",
       "      <td>34514.000000</td>\n",
       "      <td>2805.000000</td>\n",
       "      <td>69.000000</td>\n",
       "      <td>2.152360e+05</td>\n",
       "      <td>3.0</td>\n",
       "    </tr>\n",
       "    <tr>\n",
       "      <th>50%</th>\n",
       "      <td>77330.000000</td>\n",
       "      <td>5455.000000</td>\n",
       "      <td>80.000000</td>\n",
       "      <td>2.452490e+05</td>\n",
       "      <td>3.0</td>\n",
       "    </tr>\n",
       "    <tr>\n",
       "      <th>75%</th>\n",
       "      <td>116985.000000</td>\n",
       "      <td>7828.000000</td>\n",
       "      <td>114.000000</td>\n",
       "      <td>3.178370e+05</td>\n",
       "      <td>3.0</td>\n",
       "    </tr>\n",
       "    <tr>\n",
       "      <th>max</th>\n",
       "      <td>153666.000000</td>\n",
       "      <td>9998.000000</td>\n",
       "      <td>4200.000000</td>\n",
       "      <td>7.668318e+06</td>\n",
       "      <td>3.0</td>\n",
       "    </tr>\n",
       "  </tbody>\n",
       "</table>\n",
       "</div>"
      ],
      "text/plain": [
       "                  id  id_punk_tipus       amount  Amount_dollars  \\\n",
       "count    1037.000000    1037.000000  1037.000000    1.037000e+03   \n",
       "mean    76423.324012    5315.779171   122.513018    3.403718e+05   \n",
       "std     45405.069494    2825.241761   225.053038    4.729570e+05   \n",
       "min       419.000000      53.000000    46.000000    1.822400e+05   \n",
       "25%     34514.000000    2805.000000    69.000000    2.152360e+05   \n",
       "50%     77330.000000    5455.000000    80.000000    2.452490e+05   \n",
       "75%    116985.000000    7828.000000   114.000000    3.178370e+05   \n",
       "max    153666.000000    9998.000000  4200.000000    7.668318e+06   \n",
       "\n",
       "       type_transaction_id  \n",
       "count               1037.0  \n",
       "mean                   3.0  \n",
       "std                    0.0  \n",
       "min                    3.0  \n",
       "25%                    3.0  \n",
       "50%                    3.0  \n",
       "75%                    3.0  \n",
       "max                    3.0  "
      ]
     },
     "execution_count": 232,
     "metadata": {},
     "output_type": "execute_result"
    }
   ],
   "source": [
    "df_big[df_big.type_transaction_id == 3].describe()"
   ]
  },
  {
   "cell_type": "code",
   "execution_count": 108,
   "metadata": {},
   "outputs": [],
   "source": [
    "a = (3/1037) * 100"
   ]
  },
  {
   "cell_type": "code",
   "execution_count": 172,
   "metadata": {},
   "outputs": [],
   "source": [
    "a_1 = (7/14665) * 100\n",
    "b_1 = (25/14665) * 100\n",
    "c_1 = (62/14665) * 100"
   ]
  },
  {
   "cell_type": "code",
   "execution_count": 173,
   "metadata": {},
   "outputs": [],
   "source": [
    "this = [a_1,b_1,c_1]\n",
    "that = ['alien', 'ape', 'zombie']"
   ]
  },
  {
   "cell_type": "code",
   "execution_count": 109,
   "metadata": {},
   "outputs": [],
   "source": [
    "b = (6/1037) *100"
   ]
  },
  {
   "cell_type": "code",
   "execution_count": 110,
   "metadata": {},
   "outputs": [],
   "source": [
    "c = 31/1037 * 100"
   ]
  },
  {
   "cell_type": "code",
   "execution_count": 271,
   "metadata": {},
   "outputs": [
    {
     "data": {
      "text/html": [
       "<div>\n",
       "<style scoped>\n",
       "    .dataframe tbody tr th:only-of-type {\n",
       "        vertical-align: middle;\n",
       "    }\n",
       "\n",
       "    .dataframe tbody tr th {\n",
       "        vertical-align: top;\n",
       "    }\n",
       "\n",
       "    .dataframe thead th {\n",
       "        text-align: right;\n",
       "    }\n",
       "</style>\n",
       "<table border=\"1\" class=\"dataframe\">\n",
       "  <thead>\n",
       "    <tr style=\"text-align: right;\">\n",
       "      <th></th>\n",
       "      <th>id</th>\n",
       "      <th>id_punk_tipus</th>\n",
       "      <th>owner</th>\n",
       "      <th>new_owner</th>\n",
       "      <th>transaction</th>\n",
       "      <th>amount</th>\n",
       "      <th>Amount_dollars</th>\n",
       "      <th>type_transaction_id</th>\n",
       "    </tr>\n",
       "  </thead>\n",
       "  <tbody>\n",
       "    <tr>\n",
       "      <th>0</th>\n",
       "      <td>1</td>\n",
       "      <td>0</td>\n",
       "      <td>0x983ace</td>\n",
       "      <td>None</td>\n",
       "      <td>2021-05-10 00:00:00</td>\n",
       "      <td>250</td>\n",
       "      <td>986975</td>\n",
       "      <td>1</td>\n",
       "    </tr>\n",
       "    <tr>\n",
       "      <th>1</th>\n",
       "      <td>2</td>\n",
       "      <td>0</td>\n",
       "      <td>0x983ace</td>\n",
       "      <td>None</td>\n",
       "      <td>2021-04-11 00:00:00</td>\n",
       "      <td>250</td>\n",
       "      <td>537855</td>\n",
       "      <td>2</td>\n",
       "    </tr>\n",
       "    <tr>\n",
       "      <th>3</th>\n",
       "      <td>4</td>\n",
       "      <td>0</td>\n",
       "      <td>0xd7510a</td>\n",
       "      <td>None</td>\n",
       "      <td>2021-02-21 00:00:00</td>\n",
       "      <td>100</td>\n",
       "      <td>193345</td>\n",
       "      <td>2</td>\n",
       "    </tr>\n",
       "    <tr>\n",
       "      <th>245</th>\n",
       "      <td>264</td>\n",
       "      <td>14</td>\n",
       "      <td>0</td>\n",
       "      <td>None</td>\n",
       "      <td>2021-02-17 00:00:00</td>\n",
       "      <td>555</td>\n",
       "      <td>1025612</td>\n",
       "      <td>4</td>\n",
       "    </tr>\n",
       "    <tr>\n",
       "      <th>246</th>\n",
       "      <td>265</td>\n",
       "      <td>14</td>\n",
       "      <td>0</td>\n",
       "      <td>None</td>\n",
       "      <td>2021-02-07 00:00:00</td>\n",
       "      <td>444</td>\n",
       "      <td>716168</td>\n",
       "      <td>4</td>\n",
       "    </tr>\n",
       "    <tr>\n",
       "      <th>...</th>\n",
       "      <td>...</td>\n",
       "      <td>...</td>\n",
       "      <td>...</td>\n",
       "      <td>...</td>\n",
       "      <td>...</td>\n",
       "      <td>...</td>\n",
       "      <td>...</td>\n",
       "      <td>...</td>\n",
       "    </tr>\n",
       "    <tr>\n",
       "      <th>1742</th>\n",
       "      <td>2230</td>\n",
       "      <td>309</td>\n",
       "      <td>0</td>\n",
       "      <td>None</td>\n",
       "      <td>2021-03-22 00:00:00</td>\n",
       "      <td>275</td>\n",
       "      <td>462652</td>\n",
       "      <td>4</td>\n",
       "    </tr>\n",
       "    <tr>\n",
       "      <th>1743</th>\n",
       "      <td>2231</td>\n",
       "      <td>309</td>\n",
       "      <td>0</td>\n",
       "      <td>None</td>\n",
       "      <td>2021-03-18 00:00:00</td>\n",
       "      <td>290</td>\n",
       "      <td>515063</td>\n",
       "      <td>4</td>\n",
       "    </tr>\n",
       "    <tr>\n",
       "      <th>1744</th>\n",
       "      <td>2232</td>\n",
       "      <td>309</td>\n",
       "      <td>0</td>\n",
       "      <td>None</td>\n",
       "      <td>2021-03-17 00:00:00</td>\n",
       "      <td>295</td>\n",
       "      <td>537888</td>\n",
       "      <td>4</td>\n",
       "    </tr>\n",
       "    <tr>\n",
       "      <th>1745</th>\n",
       "      <td>2233</td>\n",
       "      <td>309</td>\n",
       "      <td>0</td>\n",
       "      <td>None</td>\n",
       "      <td>2021-03-12 00:00:00</td>\n",
       "      <td>303</td>\n",
       "      <td>535371</td>\n",
       "      <td>4</td>\n",
       "    </tr>\n",
       "    <tr>\n",
       "      <th>1746</th>\n",
       "      <td>2234</td>\n",
       "      <td>309</td>\n",
       "      <td>0</td>\n",
       "      <td>None</td>\n",
       "      <td>2021-03-11 00:00:00</td>\n",
       "      <td>305</td>\n",
       "      <td>556866</td>\n",
       "      <td>4</td>\n",
       "    </tr>\n",
       "  </tbody>\n",
       "</table>\n",
       "<p>200 rows × 8 columns</p>\n",
       "</div>"
      ],
      "text/plain": [
       "        id  id_punk_tipus     owner new_owner          transaction  amount  \\\n",
       "0        1              0  0x983ace      None  2021-05-10 00:00:00     250   \n",
       "1        2              0  0x983ace      None  2021-04-11 00:00:00     250   \n",
       "3        4              0  0xd7510a      None  2021-02-21 00:00:00     100   \n",
       "245    264             14         0      None  2021-02-17 00:00:00     555   \n",
       "246    265             14         0      None  2021-02-07 00:00:00     444   \n",
       "...    ...            ...       ...       ...                  ...     ...   \n",
       "1742  2230            309         0      None  2021-03-22 00:00:00     275   \n",
       "1743  2231            309         0      None  2021-03-18 00:00:00     290   \n",
       "1744  2232            309         0      None  2021-03-17 00:00:00     295   \n",
       "1745  2233            309         0      None  2021-03-12 00:00:00     303   \n",
       "1746  2234            309         0      None  2021-03-11 00:00:00     305   \n",
       "\n",
       "      Amount_dollars  type_transaction_id  \n",
       "0             986975                    1  \n",
       "1             537855                    2  \n",
       "3             193345                    2  \n",
       "245          1025612                    4  \n",
       "246           716168                    4  \n",
       "...              ...                  ...  \n",
       "1742          462652                    4  \n",
       "1743          515063                    4  \n",
       "1744          537888                    4  \n",
       "1745          535371                    4  \n",
       "1746          556866                    4  \n",
       "\n",
       "[200 rows x 8 columns]"
      ]
     },
     "execution_count": 271,
     "metadata": {},
     "output_type": "execute_result"
    }
   ],
   "source": [
    "df_big[:200]"
   ]
  },
  {
   "cell_type": "code",
   "execution_count": 181,
   "metadata": {},
   "outputs": [],
   "source": [
    "def obt_num(num):\n",
    "    lis = []\n",
    "    mycursor.execute('select id from punks where Types_idType = %s' %(num))\n",
    "    for x in mycursor: \n",
    "        lis.append(x[0])\n",
    "    return lis"
   ]
  },
  {
   "cell_type": "code",
   "execution_count": 257,
   "metadata": {},
   "outputs": [],
   "source": [
    "df_sold_1 = df_big[df_big.type_transaction_id != 4]"
   ]
  },
  {
   "cell_type": "code",
   "execution_count": 259,
   "metadata": {
    "scrolled": true
   },
   "outputs": [],
   "source": [
    "df_sold_2 = df_big[df_big.type_transaction_id != 1]"
   ]
  },
  {
   "cell_type": "code",
   "execution_count": 260,
   "metadata": {},
   "outputs": [],
   "source": [
    "alien = obt_num(1)\n",
    "ape = obt_num(2)\n",
    "female = obt_num(4)\n",
    "male = obt_num(5)\n",
    "zombie = obt_num(3)"
   ]
  },
  {
   "cell_type": "code",
   "execution_count": 261,
   "metadata": {},
   "outputs": [],
   "source": [
    "df_2_t = df_sold[df_sold['id_punk_tipus'].isin(female)].assign(type_cr = 'female')\n",
    "df_3_t = df_sold[df_sold['id_punk_tipus'].isin(male)].assign(type_cr = 'male')"
   ]
  },
  {
   "cell_type": "code",
   "execution_count": 262,
   "metadata": {},
   "outputs": [],
   "source": [
    "df_to_g = pd.concat([df_2_t, df_3_t ,df_1_t, df_4_t, df_5_t])"
   ]
  },
  {
   "cell_type": "code",
   "execution_count": 268,
   "metadata": {},
   "outputs": [],
   "source": [
    "df_to_g.to_csv('sold_bid_big.csv')"
   ]
  },
  {
   "cell_type": "code",
   "execution_count": 263,
   "metadata": {},
   "outputs": [
    {
     "data": {
      "text/plain": [
       "<AxesSubplot:xlabel='type_cr', ylabel='Amount_dollars'>"
      ]
     },
     "execution_count": 263,
     "metadata": {},
     "output_type": "execute_result"
    },
    {
     "data": {
      "image/png": "[encoded data removed]",
      "text/plain": [
       "<Figure size 432x288 with 1 Axes>"
      ]
     },
     "metadata": {
      "needs_background": "light"
     },
     "output_type": "display_data"
    }
   ],
   "source": [
    "sns.boxplot(x = 'type_cr', y = 'Amount_dollars', data =df_to_g )"
   ]
  },
  {
   "cell_type": "code",
   "execution_count": 264,
   "metadata": {},
   "outputs": [],
   "source": [
    "df_1_t = df_sold[df_sold['id_punk_tipus'].isin(alien)].assign(type_cr = 'alien')\n",
    "df_4_t = df_sold[df_sold['id_punk_tipus'].isin(ape)].assign(type_cr = 'ape')\n",
    "df_5_t = df_sold[df_sold['id_punk_tipus'].isin(zombie)].assign(type_cr = 'zombie')"
   ]
  },
  {
   "cell_type": "code",
   "execution_count": 265,
   "metadata": {
    "collapsed": true
   },
   "outputs": [
    {
     "data": {
      "text/html": [
       "<div>\n",
       "<style scoped>\n",
       "    .dataframe tbody tr th:only-of-type {\n",
       "        vertical-align: middle;\n",
       "    }\n",
       "\n",
       "    .dataframe tbody tr th {\n",
       "        vertical-align: top;\n",
       "    }\n",
       "\n",
       "    .dataframe thead th {\n",
       "        text-align: right;\n",
       "    }\n",
       "</style>\n",
       "<table border=\"1\" class=\"dataframe\">\n",
       "  <thead>\n",
       "    <tr style=\"text-align: right;\">\n",
       "      <th></th>\n",
       "      <th>id</th>\n",
       "      <th>id_punk_tipus</th>\n",
       "      <th>owner</th>\n",
       "      <th>new_owner</th>\n",
       "      <th>transaction</th>\n",
       "      <th>amount</th>\n",
       "      <th>Amount_dollars</th>\n",
       "      <th>type_transaction_id</th>\n",
       "    </tr>\n",
       "  </thead>\n",
       "  <tbody>\n",
       "    <tr>\n",
       "      <th>16</th>\n",
       "      <td>17</td>\n",
       "      <td>0</td>\n",
       "      <td>0xF5099e</td>\n",
       "      <td>0xe08c32</td>\n",
       "      <td>2018-11-30 00:00:00</td>\n",
       "      <td>25</td>\n",
       "      <td>2844</td>\n",
       "      <td>3</td>\n",
       "    </tr>\n",
       "    <tr>\n",
       "      <th>23</th>\n",
       "      <td>25</td>\n",
       "      <td>0</td>\n",
       "      <td>0x00d7C9</td>\n",
       "      <td>0xa0a59c</td>\n",
       "      <td>2017-07-07 00:00:00</td>\n",
       "      <td>2</td>\n",
       "      <td>381</td>\n",
       "      <td>3</td>\n",
       "    </tr>\n",
       "    <tr>\n",
       "      <th>30</th>\n",
       "      <td>32</td>\n",
       "      <td>0</td>\n",
       "      <td>0xC352B5</td>\n",
       "      <td>0x00d7c9</td>\n",
       "      <td>2017-06-24 00:00:00</td>\n",
       "      <td>1</td>\n",
       "      <td>291</td>\n",
       "      <td>3</td>\n",
       "    </tr>\n",
       "    <tr>\n",
       "      <th>35</th>\n",
       "      <td>38</td>\n",
       "      <td>1</td>\n",
       "      <td>0xeE3766</td>\n",
       "      <td>0xcf6165</td>\n",
       "      <td>2020-11-30 00:00:00</td>\n",
       "      <td>60</td>\n",
       "      <td>36955</td>\n",
       "      <td>3</td>\n",
       "    </tr>\n",
       "    <tr>\n",
       "      <th>52</th>\n",
       "      <td>66</td>\n",
       "      <td>1</td>\n",
       "      <td>0xF5099e</td>\n",
       "      <td>0x7d438b</td>\n",
       "      <td>2019-04-06 00:00:00</td>\n",
       "      <td>31</td>\n",
       "      <td>5132</td>\n",
       "      <td>3</td>\n",
       "    </tr>\n",
       "    <tr>\n",
       "      <th>...</th>\n",
       "      <td>...</td>\n",
       "      <td>...</td>\n",
       "      <td>...</td>\n",
       "      <td>...</td>\n",
       "      <td>...</td>\n",
       "      <td>...</td>\n",
       "      <td>...</td>\n",
       "      <td>...</td>\n",
       "    </tr>\n",
       "    <tr>\n",
       "      <th>112983</th>\n",
       "      <td>153573</td>\n",
       "      <td>9989</td>\n",
       "      <td>0x289d95</td>\n",
       "      <td>0x7760e0</td>\n",
       "      <td>2017-11-28 00:00:00</td>\n",
       "      <td>0</td>\n",
       "      <td>140</td>\n",
       "      <td>3</td>\n",
       "    </tr>\n",
       "    <tr>\n",
       "      <th>112991</th>\n",
       "      <td>153586</td>\n",
       "      <td>9990</td>\n",
       "      <td>0xcA8fE4</td>\n",
       "      <td>0xddfdcb</td>\n",
       "      <td>2021-03-20 00:00:00</td>\n",
       "      <td>24</td>\n",
       "      <td>44213</td>\n",
       "      <td>3</td>\n",
       "    </tr>\n",
       "    <tr>\n",
       "      <th>113030</th>\n",
       "      <td>153638</td>\n",
       "      <td>9997</td>\n",
       "      <td>0x10725A</td>\n",
       "      <td>0x0e4437</td>\n",
       "      <td>2021-02-08 00:00:00</td>\n",
       "      <td>100</td>\n",
       "      <td>175000</td>\n",
       "      <td>3</td>\n",
       "    </tr>\n",
       "    <tr>\n",
       "      <th>113059</th>\n",
       "      <td>153686</td>\n",
       "      <td>9998</td>\n",
       "      <td>0x78f026</td>\n",
       "      <td>0xcfd9cc</td>\n",
       "      <td>2021-03-03 00:00:00</td>\n",
       "      <td>38</td>\n",
       "      <td>59700</td>\n",
       "      <td>3</td>\n",
       "    </tr>\n",
       "    <tr>\n",
       "      <th>113063</th>\n",
       "      <td>153691</td>\n",
       "      <td>9998</td>\n",
       "      <td>0x73E4a2</td>\n",
       "      <td>0x78f026</td>\n",
       "      <td>2020-12-27 00:00:00</td>\n",
       "      <td>15</td>\n",
       "      <td>10256</td>\n",
       "      <td>3</td>\n",
       "    </tr>\n",
       "  </tbody>\n",
       "</table>\n",
       "<p>14665 rows × 8 columns</p>\n",
       "</div>"
      ],
      "text/plain": [
       "            id  id_punk_tipus     owner new_owner          transaction  \\\n",
       "16          17              0  0xF5099e  0xe08c32  2018-11-30 00:00:00   \n",
       "23          25              0  0x00d7C9  0xa0a59c  2017-07-07 00:00:00   \n",
       "30          32              0  0xC352B5  0x00d7c9  2017-06-24 00:00:00   \n",
       "35          38              1  0xeE3766  0xcf6165  2020-11-30 00:00:00   \n",
       "52          66              1  0xF5099e  0x7d438b  2019-04-06 00:00:00   \n",
       "...        ...            ...       ...       ...                  ...   \n",
       "112983  153573           9989  0x289d95  0x7760e0  2017-11-28 00:00:00   \n",
       "112991  153586           9990  0xcA8fE4  0xddfdcb  2021-03-20 00:00:00   \n",
       "113030  153638           9997  0x10725A  0x0e4437  2021-02-08 00:00:00   \n",
       "113059  153686           9998  0x78f026  0xcfd9cc  2021-03-03 00:00:00   \n",
       "113063  153691           9998  0x73E4a2  0x78f026  2020-12-27 00:00:00   \n",
       "\n",
       "        amount  Amount_dollars  type_transaction_id  \n",
       "16          25            2844                    3  \n",
       "23           2             381                    3  \n",
       "30           1             291                    3  \n",
       "35          60           36955                    3  \n",
       "52          31            5132                    3  \n",
       "...        ...             ...                  ...  \n",
       "112983       0             140                    3  \n",
       "112991      24           44213                    3  \n",
       "113030     100          175000                    3  \n",
       "113059      38           59700                    3  \n",
       "113063      15           10256                    3  \n",
       "\n",
       "[14665 rows x 8 columns]"
      ]
     },
     "execution_count": 265,
     "metadata": {},
     "output_type": "execute_result"
    }
   ],
   "source": [
    "df_t_mod[df_t_mod['type_transaction_id'] == 3]"
   ]
  },
  {
   "cell_type": "code",
   "execution_count": 171,
   "metadata": {},
   "outputs": [
    {
     "data": {
      "text/plain": [
       "0.42277531537674734"
      ]
     },
     "execution_count": 171,
     "metadata": {},
     "output_type": "execute_result"
    }
   ],
   "source": [
    "(62/14665) * 100"
   ]
  },
  {
   "cell_type": "code",
   "execution_count": 170,
   "metadata": {},
   "outputs": [
    {
     "data": {
      "text/plain": [
       "id                     62\n",
       "id_punk_tipus          62\n",
       "owner                  62\n",
       "new_owner              62\n",
       "transaction            62\n",
       "amount                 62\n",
       "Amount_dollars         62\n",
       "type_transaction_id    62\n",
       "type_cr                62\n",
       "dtype: int64"
      ]
     },
     "execution_count": 170,
     "metadata": {},
     "output_type": "execute_result"
    }
   ],
   "source": [
    "df_5_t[df_5_t['type_transaction_id'] == 3].count()"
   ]
  },
  {
   "cell_type": "code",
   "execution_count": 33,
   "metadata": {},
   "outputs": [],
   "source": [
    "df_to_g = pd.concat([df_1_t, df_4_t, df_5_t])"
   ]
  },
  {
   "cell_type": "code",
   "execution_count": 34,
   "metadata": {
    "scrolled": true
   },
   "outputs": [
    {
     "data": {
      "text/plain": [
       "<AxesSubplot:xlabel='type_cr', ylabel='Amount_dollars'>"
      ]
     },
     "execution_count": 34,
     "metadata": {},
     "output_type": "execute_result"
    },
    {
     "data": {
      "image/png": "[encoded data removed]",
      "text/plain": [
       "<Figure size 432x288 with 1 Axes>"
      ]
     },
     "metadata": {
      "needs_background": "light"
     },
     "output_type": "display_data"
    }
   ],
   "source": [
    "sns.boxplot(x = 'type_cr', y = 'Amount_dollars', data = df_to_g)"
   ]
  },
  {
   "cell_type": "code",
   "execution_count": null,
   "metadata": {},
   "outputs": [],
   "source": []
  },
  {
   "cell_type": "code",
   "execution_count": 36,
   "metadata": {},
   "outputs": [],
   "source": [
    "def obt_num(num):\n",
    "    lis = []\n",
    "    mycursor.execute('select id from punks where Skins_idSkin = %s' %(num))\n",
    "    for x in mycursor: \n",
    "        lis.append(x[0])\n",
    "    return lis"
   ]
  },
  {
   "cell_type": "code",
   "execution_count": 37,
   "metadata": {},
   "outputs": [],
   "source": [
    "albino = obt_num(4)\n",
    "alien = obt_num(1)\n",
    "ape = obt_num(2)\n",
    "dark = obt_num(5)\n",
    "light = obt_num(6) \n",
    "mid = obt_num(7)\n",
    "zombie =  obt_num(3)\n",
    "#mid light dark albino"
   ]
  },
  {
   "cell_type": "code",
   "execution_count": 39,
   "metadata": {},
   "outputs": [],
   "source": [
    "mid_s = df_t_mod[df_t_mod['id_punk_tipus'].isin(mid)].assign(skin = 'mid')\n",
    "light_s = df_t_mod[df_t_mod['id_punk_tipus'].isin(light)].assign(skin = 'light')\n",
    "dark_s = df_t_mod[df_t_mod['id_punk_tipus'].isin(dark)].assign(skin = 'dark')\n",
    "albino_s = df_t_mod[df_t_mod['id_punk_tipus'].isin(albino)].assign(skin = 'albino')"
   ]
  },
  {
   "cell_type": "code",
   "execution_count": 40,
   "metadata": {},
   "outputs": [],
   "source": [
    "df_to_g = pd.concat([mid_s, light_s, dark_s, albino_s])"
   ]
  },
  {
   "cell_type": "code",
   "execution_count": 41,
   "metadata": {
    "scrolled": true
   },
   "outputs": [
    {
     "data": {
      "text/plain": [
       "<AxesSubplot:xlabel='skin', ylabel='Amount_dollars'>"
      ]
     },
     "execution_count": 41,
     "metadata": {},
     "output_type": "execute_result"
    },
    {
     "data": {
      "image/png": "[encoded data removed]",
      "text/plain": [
       "<Figure size 432x288 with 1 Axes>"
      ]
     },
     "metadata": {
      "needs_background": "light"
     },
     "output_type": "display_data"
    }
   ],
   "source": [
    "sns.boxplot( x = 'skin', y = 'Amount_dollars', data = df_to_g)"
   ]
  },
  {
   "cell_type": "code",
   "execution_count": 42,
   "metadata": {},
   "outputs": [],
   "source": [
    "alien_s = df_t_mod[df_t_mod['id_punk_tipus'].isin(alien)].assign(skin = 'alien')\n",
    "ape_s = df_t_mod[df_t_mod['id_punk_tipus'].isin(ape)].assign(skin = 'ape')\n",
    "zombie_s = df_t_mod[df_t_mod['id_punk_tipus'].isin(zombie)].assign(skin = 'zombie')"
   ]
  },
  {
   "cell_type": "code",
   "execution_count": 43,
   "metadata": {},
   "outputs": [],
   "source": [
    "df_to_g = pd.concat([alien_s, ape_s, zombie_s])"
   ]
  },
  {
   "cell_type": "code",
   "execution_count": 44,
   "metadata": {},
   "outputs": [
    {
     "data": {
      "text/plain": [
       "<AxesSubplot:xlabel='skin', ylabel='Amount_dollars'>"
      ]
     },
     "execution_count": 44,
     "metadata": {},
     "output_type": "execute_result"
    },
    {
     "data": {
      "image/png": "[encoded data removed]",
      "text/plain": [
       "<Figure size 432x288 with 1 Axes>"
      ]
     },
     "metadata": {
      "needs_background": "light"
     },
     "output_type": "display_data"
    }
   ],
   "source": [
    "sns.boxplot( x = 'skin', y = 'Amount_dollars', data = df_to_g)"
   ]
  },
  {
   "cell_type": "code",
   "execution_count": null,
   "metadata": {},
   "outputs": [],
   "source": []
  }
 ],
 "metadata": {
  "kernelspec": {
   "display_name": "Python 3",
   "language": "python",
   "name": "python3"
  },
  "language_info": {
   "codemirror_mode": {
    "name": "ipython",
    "version": 3
   },
   "file_extension": ".py",
   "mimetype": "text/x-python",
   "name": "python",
   "nbconvert_exporter": "python",
   "pygments_lexer": "ipython3",
   "version": "3.8.5"
  }
 },
 "nbformat": 4,
 "nbformat_minor": 4
}
