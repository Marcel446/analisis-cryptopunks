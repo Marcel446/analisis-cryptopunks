{
 "cells": [
  {
   "cell_type": "code",
   "execution_count": null,
   "metadata": {},
   "outputs": [],
   "source": [
    "from selenium import webdriver\n",
    "from selenium.webdriver.common.keys import Keys\n",
    "import requests\n",
    "from bs4 import BeautifulSoup\n",
    "import pandas as pd\n",
    "from selenium.webdriver.chrome.options import Options \n",
    "from time import sleep, ctime"
   ]
  },
  {
   "cell_type": "code",
   "execution_count": null,
   "metadata": {},
   "outputs": [],
   "source": [
    "path = 'C:\\\\Program Files (x86)\\\\chromedriver.exe'"
   ]
  },
  {
   "cell_type": "code",
   "execution_count": null,
   "metadata": {},
   "outputs": [],
   "source": [
    "def get_data(url):\n",
    "    #Inicialitzem driver \n",
    "    opts = Options()\n",
    "    opts.add_argument('headless')\n",
    "    driver = webdriver.Chrome(path, options = opts)\n",
    "    driver.get(url)\n",
    "    sleep(1)\n",
    "    #Descarreguem info transaccions\n",
    "    try: \n",
    "        source = driver.find_element_by_xpath('/html/body/div/div/main/div/div/div/div[2]/div[2]/div/table')\n",
    "    except:\n",
    "        sleep(4)\n",
    "        source = driver.find_element_by_xpath('/html/body/div/div/main/div/div/div/div[2]/div[2]/div/table')\n",
    "    tran_table = source.get_attribute('innerHTML')\n",
    "    soup = BeautifulSoup(tran_table, 'html.parser')\n",
    "    \n",
    "    #Obtenim id del cryptopunk\n",
    "    source_2 = driver.find_element_by_xpath('/html/body/div/div/main/div/div/h1')\n",
    "    id_crypt = source_2.get_attribute('innerHTML')\n",
    "    soup_name = BeautifulSoup(id_crypt, 'html.parser' ) \n",
    "    numbid = int(soup_name.get_text()[12:])\n",
    "    \n",
    "    #Creem DF amb hisorial transaccions i ID crypto\n",
    "    list_data = []\n",
    "    for td in soup.find_all('td'):\n",
    "        list_data.append(td.get_text())\n",
    "    labels = ['Type', 'From', 'To', 'Amount', 'Transaction', 'id']\n",
    "    data = {}\n",
    "    for i in range(5):\n",
    "        data[labels[i]] = list_data[i::5]\n",
    "        data[labels[5]] = numbid\n",
    "    \n",
    "    df = pd.DataFrame(data)\n",
    "    \n",
    "    driver.quit()\n",
    "    \n",
    "    return df"
   ]
  },
  {
   "cell_type": "code",
   "execution_count": null,
   "metadata": {},
   "outputs": [],
   "source": [
    "appended_data = []"
   ]
  },
  {
   "cell_type": "code",
   "execution_count": null,
   "metadata": {},
   "outputs": [],
   "source": [
    "for x in range(9999):\n",
    "    base_urls = 'https://defypunk.com/punks/{numb}'.format(numb = x)\n",
    "    appended_data.append(get_data(base_urls))  \n",
    "    "
   ]
  },
  {
   "cell_type": "markdown",
   "metadata": {},
   "source": [
    "import time\n",
    "start_time = time.time()\n",
    "df = get_data(lol)\n",
    "print(\"--- %s seconds ---\" % (time.time() - start_time))"
   ]
  },
  {
   "cell_type": "code",
   "execution_count": null,
   "metadata": {},
   "outputs": [],
   "source": [
    "url = 'https://defypunk.com/punks/9999'\n",
    "df = get_data(url)"
   ]
  },
  {
   "cell_type": "code",
   "execution_count": null,
   "metadata": {},
   "outputs": [],
   "source": [
    "df"
   ]
  },
  {
   "cell_type": "code",
   "execution_count": null,
   "metadata": {},
   "outputs": [],
   "source": [
    "appended_data"
   ]
  },
  {
   "cell_type": "code",
   "execution_count": null,
   "metadata": {},
   "outputs": [],
   "source": [
    "df = pd.concat(appended_data)"
   ]
  },
  {
   "cell_type": "code",
   "execution_count": null,
   "metadata": {},
   "outputs": [],
   "source": [
    "df"
   ]
  },
  {
   "cell_type": "code",
   "execution_count": null,
   "metadata": {},
   "outputs": [],
   "source": [
    "df.to_csv('df_transactions.csv', index = False)"
   ]
  },
  {
   "cell_type": "code",
   "execution_count": null,
   "metadata": {},
   "outputs": [],
   "source": [
    "df_2 = pd.read_csv('df_transactions.csv')"
   ]
  },
  {
   "cell_type": "code",
   "execution_count": null,
   "metadata": {},
   "outputs": [],
   "source": [
    "df_2"
   ]
  },
  {
   "cell_type": "code",
   "execution_count": null,
   "metadata": {},
   "outputs": [],
   "source": [
    "df.Type.value_counts()"
   ]
  },
  {
   "cell_type": "code",
   "execution_count": null,
   "metadata": {},
   "outputs": [],
   "source": [
    "df_3 = pd.concat([df_2, df])"
   ]
  },
  {
   "cell_type": "code",
   "execution_count": null,
   "metadata": {},
   "outputs": [],
   "source": [
    "df_3"
   ]
  },
  {
   "cell_type": "code",
   "execution_count": null,
   "metadata": {},
   "outputs": [],
   "source": [
    "df_3.to_csv('df_transactions_full.csv', index = False)"
   ]
  },
  {
   "cell_type": "code",
   "execution_count": null,
   "metadata": {},
   "outputs": [],
   "source": [
    "y_pos = df.type.value_counts()"
   ]
  }
 ],
 "metadata": {
  "kernelspec": {
   "display_name": "Python 3",
   "language": "python",
   "name": "python3"
  },
  "language_info": {
   "codemirror_mode": {
    "name": "ipython",
    "version": 3
   },
   "file_extension": ".py",
   "mimetype": "text/x-python",
   "name": "python",
   "nbconvert_exporter": "python",
   "pygments_lexer": "ipython3",
   "version": "3.8.5"
  }
 },
 "nbformat": 4,
 "nbformat_minor": 4
}
