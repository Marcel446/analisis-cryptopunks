{
 "cells": [
  {
   "cell_type": "code",
   "execution_count": null,
   "metadata": {},
   "outputs": [],
   "source": [
    "import mysql"
   ]
  },
  {
   "cell_type": "code",
   "execution_count": null,
   "metadata": {},
   "outputs": [],
   "source": [
    "import pandas as pd\n",
    "import mysql.connector\n",
    "from mysql.connector.optionfiles import MySQLOptionsParser\n",
    "\n",
    "mydb = mysql.connector.connect(\n",
    "    host = '127.0.0.1',\n",
    "    port = int(3306),\n",
    "    user = 'root',\n",
    "    password = '1111',\n",
    "    database = 'mydb'\n",
    "    )\n",
    "mycursor = mydb.cursor(buffered = True)\n"
   ]
  },
  {
   "cell_type": "code",
   "execution_count": null,
   "metadata": {},
   "outputs": [],
   "source": [
    "import scipy.stats as stats"
   ]
  },
  {
   "cell_type": "code",
   "execution_count": null,
   "metadata": {},
   "outputs": [],
   "source": [
    "import matplotlib.pyplot as plt\n",
    "import seaborn as sns"
   ]
  },
  {
   "cell_type": "code",
   "execution_count": null,
   "metadata": {},
   "outputs": [],
   "source": [
    "sql_query = pd.read_sql_query('select * from transaction_history where Amount_dollars != 0;', mydb)"
   ]
  },
  {
   "cell_type": "code",
   "execution_count": null,
   "metadata": {},
   "outputs": [],
   "source": [
    "df_transactions = pd.DataFrame(sql_query)"
   ]
  },
  {
   "cell_type": "code",
   "execution_count": null,
   "metadata": {},
   "outputs": [],
   "source": [
    "df_t_mod = df_transactions"
   ]
  },
  {
   "cell_type": "code",
   "execution_count": null,
   "metadata": {},
   "outputs": [],
   "source": [
    "df_transactions"
   ]
  },
  {
   "cell_type": "code",
   "execution_count": null,
   "metadata": {
    "scrolled": true
   },
   "outputs": [],
   "source": [
    "df_transactions.Amount_dollars.describe()"
   ]
  },
  {
   "cell_type": "code",
   "execution_count": null,
   "metadata": {},
   "outputs": [],
   "source": [
    "iqr = stats.iqr(df_transactions.Amount_dollars)"
   ]
  },
  {
   "cell_type": "code",
   "execution_count": null,
   "metadata": {},
   "outputs": [],
   "source": [
    "outliers = 1.5*iqr"
   ]
  },
  {
   "cell_type": "code",
   "execution_count": null,
   "metadata": {},
   "outputs": [],
   "source": [
    "df_t_mod = df_transactions.drop(df_transactions.Amount_dollars[df_transactions.Amount_dollars >(9.136625e+04 + iqr)].index)"
   ]
  },
  {
   "cell_type": "code",
   "execution_count": null,
   "metadata": {},
   "outputs": [],
   "source": [
    "df_t_mod.to_csv('df_t_nout.csv')"
   ]
  },
  {
   "cell_type": "code",
   "execution_count": null,
   "metadata": {},
   "outputs": [],
   "source": [
    "df_t_mod.Amount_dollars.describe()"
   ]
  },
  {
   "cell_type": "code",
   "execution_count": null,
   "metadata": {},
   "outputs": [],
   "source": [
    "labels = {1 : 'Bid withdrawn', 2: 'Bid', 3 : 'Sold', 4 : 'Offered'}"
   ]
  },
  {
   "cell_type": "code",
   "execution_count": null,
   "metadata": {},
   "outputs": [],
   "source": []
  },
  {
   "cell_type": "code",
   "execution_count": null,
   "metadata": {
    "scrolled": true
   },
   "outputs": [],
   "source": [
    "fig = sns.boxplot( x = df_t_mod.type_transaction_id.replace(labels), y = df_t_mod['Amount_dollars'])\n",
    "fig_2 = fig.get_figure()\n",
    "fig_2.savefig('type_Amount.png')"
   ]
  },
  {
   "cell_type": "code",
   "execution_count": null,
   "metadata": {},
   "outputs": [],
   "source": [
    "prova = df_t_mod.groupby('id_punk_tipus')"
   ]
  },
  {
   "cell_type": "code",
   "execution_count": null,
   "metadata": {},
   "outputs": [],
   "source": [
    "sns.boxplot(x = .index[0:8], y = df_ord['Amount_dollars'][0:8])"
   ]
  },
  {
   "cell_type": "code",
   "execution_count": null,
   "metadata": {},
   "outputs": [],
   "source": [
    "df_means.sort_values(by = ['Amount_dollars'], ascending = False, inplace = True)"
   ]
  },
  {
   "cell_type": "code",
   "execution_count": null,
   "metadata": {},
   "outputs": [],
   "source": [
    "df_means"
   ]
  },
  {
   "cell_type": "code",
   "execution_count": null,
   "metadata": {},
   "outputs": [],
   "source": [
    "df_ord.index[0:10]"
   ]
  },
  {
   "cell_type": "code",
   "execution_count": null,
   "metadata": {},
   "outputs": [],
   "source": [
    "data = df_means['Amount_dollars'].sort_values(ascending = False)\n",
    "labels = df_means['Amount_dollars'].sort_values(ascending = False).index.tolist()"
   ]
  },
  {
   "cell_type": "code",
   "execution_count": null,
   "metadata": {},
   "outputs": [],
   "source": [
    "f, ax = plt.subplots(figsize = (15,10)) \n",
    "sns.set_color_codes('pastel')\n",
    "bar_traits = sns.barplot(x = labels[0:20], y =data[0:20])\n",
    "plt.show()"
   ]
  },
  {
   "cell_type": "code",
   "execution_count": null,
   "metadata": {},
   "outputs": [],
   "source": [
    "f, ax = plt.subplots(figsize = (15,10)) \n",
    "sns.set_color_codes('pastel')\n",
    "bar_traits = sns.barplot(x = labels[-20:], y =data[-20:])\n",
    "plt.show()"
   ]
  },
  {
   "cell_type": "code",
   "execution_count": null,
   "metadata": {},
   "outputs": [],
   "source": [
    "df_t_mod.Amount_dollars[df_t_mod.type_transaction_id == 4].describe()"
   ]
  },
  {
   "cell_type": "code",
   "execution_count": null,
   "metadata": {},
   "outputs": [],
   "source": [
    "df_means.describe()"
   ]
  },
  {
   "cell_type": "code",
   "execution_count": null,
   "metadata": {},
   "outputs": [],
   "source": [
    "def obt_num(num):\n",
    "    lis = []\n",
    "    mycursor.execute('select id from punks where num_traits = %s' %(num))\n",
    "    for x in mycursor: \n",
    "        lis.append(x[0])\n",
    "    return lis"
   ]
  },
  {
   "cell_type": "code",
   "execution_count": null,
   "metadata": {},
   "outputs": [],
   "source": [
    "id_0 = obt_num(0)\n",
    "id_1 = obt_num(1)\n",
    "id_2 = obt_num(2)\n",
    "id_3 = obt_num(3)\n",
    "id_4 = obt_num(4)\n",
    "id_5 = obt_num(5)\n",
    "id_6 = obt_num(6)\n",
    "id_7 = obt_num(7)"
   ]
  },
  {
   "cell_type": "code",
   "execution_count": null,
   "metadata": {},
   "outputs": [],
   "source": [
    "df_t_mod"
   ]
  },
  {
   "cell_type": "code",
   "execution_count": null,
   "metadata": {},
   "outputs": [],
   "source": [
    "df_2_t = df_t_mod[df_t_mod['id_punk_tipus'].isin(id_2)].assign(Num_traits = 2)"
   ]
  },
  {
   "cell_type": "code",
   "execution_count": null,
   "metadata": {},
   "outputs": [],
   "source": [
    "df_3_t = df_t_mod[df_t_mod['id_punk_tipus'].isin(id_3)].assign(Num_traits = 3)"
   ]
  },
  {
   "cell_type": "code",
   "execution_count": null,
   "metadata": {},
   "outputs": [],
   "source": [
    "df_4_t = df_t_mod[df_t_mod['id_punk_tipus'].isin(id_4)].assign(Num_traits = 4)"
   ]
  },
  {
   "cell_type": "code",
   "execution_count": null,
   "metadata": {},
   "outputs": [],
   "source": [
    "df_to_g = pd.concat([df_2_t, df_3_t, df_4_t])"
   ]
  },
  {
   "cell_type": "code",
   "execution_count": null,
   "metadata": {},
   "outputs": [],
   "source": [
    "sns.boxplot(x = 'Num_traits', y = 'Amount_dollars', data = df_to_g)"
   ]
  },
  {
   "cell_type": "code",
   "execution_count": 245,
   "metadata": {},
   "outputs": [],
   "source": [
    "index = df_transactions[df_transactions.type_transaction_id == 4].index"
   ]
  },
  {
   "cell_type": "code",
   "execution_count": 250,
   "metadata": {},
   "outputs": [],
   "source": [
    "df_n_o = df_transactions"
   ]
  },
  {
   "cell_type": "code",
   "execution_count": null,
   "metadata": {},
   "outputs": [],
   "source": [
    "df_0_t = df_t_mod[df_t_mod['id_punk_tipus'].isin(id_0)].assign(Num_traits = 0)\n",
    "df_1_t = df_t_mod[df_t_mod['id_punk_tipus'].isin(id_1)].assign(Num_traits = 1)\n",
    "df_5_t = df_t_mod[df_t_mod['id_punk_tipus'].isin(id_5)].assign(Num_traits = 5)\n",
    "df_6_t = df_t_mod[df_t_mod['id_punk_tipus'].isin(id_6)].assign(Num_traits = 6)\n",
    "df_7_t = df_t_mod[df_t_mod['id_punk_tipus'].isin(id_7)].assign(Num_traits = 7)"
   ]
  },
  {
   "cell_type": "code",
   "execution_count": null,
   "metadata": {},
   "outputs": [],
   "source": [
    "df_to_g = pd.concat([df_0_t, df_1_t, df_5_t, df_6_t, df_7_t])"
   ]
  },
  {
   "cell_type": "code",
   "execution_count": null,
   "metadata": {},
   "outputs": [],
   "source": [
    "sns.boxplot(x = 'Num_traits', y = 'Amount_dollars', data = df_to_g)"
   ]
  },
  {
   "cell_type": "code",
   "execution_count": 278,
   "metadata": {},
   "outputs": [],
   "source": [
    "df_0_t = df_n_o[df_n_o['id_punk_tipus'].isin(id_0)].assign(Num_traits = 0)\n",
    "df_1_t = df_n_o[df_n_o['id_punk_tipus'].isin(id_1)].assign(Num_traits = 1)\n",
    "df_5_t = df_n_o[df_n_o['id_punk_tipus'].isin(id_5)].assign(Num_traits = 5)\n",
    "df_6_t = df_n_o[df_n_o['id_punk_tipus'].isin(id_6)].assign(Num_traits = 6)\n",
    "df_7_t = df_n_o[df_n_o['id_punk_tipus'].isin(id_7)].assign(Num_traits = 7)"
   ]
  },
  {
   "cell_type": "code",
   "execution_count": 252,
   "metadata": {
    "collapsed": true
   },
   "outputs": [
    {
     "data": {
      "text/plain": [
       "<AxesSubplot:xlabel='Num_traits', ylabel='Amount_dollars'>"
      ]
     },
     "execution_count": 252,
     "metadata": {},
     "output_type": "execute_result"
    },
    {
     "data": {
      "image/png": "[encoded data removed]",
      "text/plain": [
       "<Figure size 432x288 with 1 Axes>"
      ]
     },
     "metadata": {
      "needs_background": "light"
     },
     "output_type": "display_data"
    }
   ],
   "source": [
    "df_to_g = pd.concat([df_0_t, df_1_t, df_5_t, df_6_t, df_7_t])\n",
    "sns.boxplot(x = 'Num_traits', y = 'Amount_dollars', data = df_to_g)"
   ]
  },
  {
   "cell_type": "code",
   "execution_count": 279,
   "metadata": {},
   "outputs": [],
   "source": [
    "df_2_t = df_n_o[df_n_o['id_punk_tipus'].isin(id_2)].assign(Num_traits = 2)\n",
    "df_3_t = df_n_o[df_n_o['id_punk_tipus'].isin(id_3)].assign(Num_traits = 3)\n",
    "df_4_t = df_n_o[df_n_o['id_punk_tipus'].isin(id_4)].assign(Num_traits = 4)"
   ]
  },
  {
   "cell_type": "code",
   "execution_count": 280,
   "metadata": {},
   "outputs": [],
   "source": [
    "df_dis = df_to_g = pd.concat([df_0_t, df_1_t, df_5_t, df_6_t, df_7_t, df_2_t, df_3_t, df_4_t])"
   ]
  },
  {
   "cell_type": "code",
   "execution_count": null,
   "metadata": {},
   "outputs": [],
   "source": [
    "df_t_mod = df_transactions.drop(df_transactions.Amount_dollars[df_transactions.Amount_dollars >(9.136625e+04 + iqr)].index)"
   ]
  },
  {
   "cell_type": "code",
   "execution_count": 266,
   "metadata": {},
   "outputs": [],
   "source": [
    "df_n_h = df_to_g.drop(df_to_g.Amount_dollars[df_to_g.Amount_dollars <(9.136625e+04 + iqr)].index)\n",
    "df_n_l = df_to_g.drop(df_to_g.Amount_dollars[df_to_g.Amount_dollars >(9.136625e+04 + iqr)].index)"
   ]
  },
  {
   "cell_type": "code",
   "execution_count": 285,
   "metadata": {},
   "outputs": [],
   "source": [
    "df_dis_l = df_dis.drop(df_dis.Amount_dollars[df_dis.Amount_dollars >(9.136625e+04 + iqr)].index)\n",
    "df_dis_h = df_dis.drop(df_dis.Amount_dollars[df_dis.Amount_dollars <(9.136625e+04 + iqr)].index)"
   ]
  },
  {
   "cell_type": "code",
   "execution_count": 286,
   "metadata": {},
   "outputs": [
    {
     "data": {
      "text/plain": [
       "<AxesSubplot:xlabel='Num_traits', ylabel='Amount_dollars'>"
      ]
     },
     "execution_count": 286,
     "metadata": {},
     "output_type": "execute_result"
    },
    {
     "data": {
      "image/png": "[encoded data removed]",
      "text/plain": [
       "<Figure size 432x288 with 1 Axes>"
      ]
     },
     "metadata": {
      "needs_background": "light"
     },
     "output_type": "display_data"
    }
   ],
   "source": [
    "sns.boxplot(x = 'Num_traits', y = 'Amount_dollars', data = df_dis_h)"
   ]
  },
  {
   "cell_type": "code",
   "execution_count": 287,
   "metadata": {},
   "outputs": [
    {
     "data": {
      "text/plain": [
       "3    21776\n",
       "2    17445\n",
       "4     7230\n",
       "5     2646\n",
       "1     1869\n",
       "6      545\n",
       "0      286\n",
       "7      237\n",
       "Name: Num_traits, dtype: int64"
      ]
     },
     "execution_count": 287,
     "metadata": {},
     "output_type": "execute_result"
    }
   ],
   "source": [
    "df_dis_l.Num_traits.value_counts()"
   ]
  },
  {
   "cell_type": "code",
   "execution_count": 288,
   "metadata": {},
   "outputs": [
    {
     "data": {
      "text/plain": [
       "3    1315\n",
       "2    1106\n",
       "4     455\n",
       "5     248\n",
       "1     149\n",
       "7      66\n",
       "6      48\n",
       "0      15\n",
       "Name: Num_traits, dtype: int64"
      ]
     },
     "execution_count": 288,
     "metadata": {},
     "output_type": "execute_result"
    }
   ],
   "source": [
    "df_dis_h.Num_traits.value_counts()"
   ]
  },
  {
   "cell_type": "code",
   "execution_count": 344,
   "metadata": {},
   "outputs": [],
   "source": [
    "y_pos_1 = df_dis_l['Num_traits'].value_counts()\n",
    "x_pos_1 = df_dis_l['Num_traits'].value_counts().index.tolist()"
   ]
  },
  {
   "cell_type": "code",
   "execution_count": 345,
   "metadata": {},
   "outputs": [
    {
     "data": {
      "image/png": "[encoded data removed]",
      "text/plain": [
       "<Figure size 432x432 with 1 Axes>"
      ]
     },
     "metadata": {
      "needs_background": "light"
     },
     "output_type": "display_data"
    }
   ],
   "source": [
    "f, ax = plt.subplots(figsize = (6,6)) \n",
    "sns.set_color_codes('pastel')\n",
    "bar_traits_1 = sns.barplot(x = x_pos_1, y = y_pos_1, label = 'trait')\n",
    "plt.show()"
   ]
  },
  {
   "cell_type": "code",
   "execution_count": null,
   "metadata": {},
   "outputs": [],
   "source": []
  },
  {
   "cell_type": "code",
   "execution_count": 346,
   "metadata": {},
   "outputs": [],
   "source": [
    "y_pos_2 = df_dis_h['Num_traits'].value_counts()\n",
    "x_pos_2 = df_dis_h['Num_traits'].value_counts().index.tolist()"
   ]
  },
  {
   "cell_type": "code",
   "execution_count": 347,
   "metadata": {},
   "outputs": [
    {
     "data": {
      "image/png": "[encoded data removed]",
      "text/plain": [
       "<Figure size 432x432 with 1 Axes>"
      ]
     },
     "metadata": {
      "needs_background": "light"
     },
     "output_type": "display_data"
    }
   ],
   "source": [
    "f, ax = plt.subplots(figsize = (6,6)) \n",
    "sns.set_color_codes('bright')\n",
    "bar_traits_2 = sns.barplot(x = x_pos_2, y = y_pos_2, label = 'trait', palette = 'Set2')\n",
    "plt.show()"
   ]
  },
  {
   "cell_type": "code",
   "execution_count": 330,
   "metadata": {},
   "outputs": [],
   "source": [
    "orderd = df_dis_h.sort_values(by = ['Amount_dollars'], ascending = False)"
   ]
  },
  {
   "cell_type": "code",
   "execution_count": 326,
   "metadata": {},
   "outputs": [],
   "source": [
    "df_dis_h.sort_values(by = ['Amount_dollars'], ascending = False, inplace = True)"
   ]
  },
  {
   "cell_type": "code",
   "execution_count": 348,
   "metadata": {},
   "outputs": [],
   "source": [
    "y_pos = orderd['Num_traits'][:200].value_counts()\n",
    "x_pos = orderd['Num_traits'][:200].value_counts().index.tolist()"
   ]
  },
  {
   "cell_type": "code",
   "execution_count": 349,
   "metadata": {},
   "outputs": [
    {
     "data": {
      "image/png": "[encoded data removed]",
      "text/plain": [
       "<Figure size 432x432 with 1 Axes>"
      ]
     },
     "metadata": {
      "needs_background": "light"
     },
     "output_type": "display_data"
    }
   ],
   "source": [
    "f, ax = plt.subplots(figsize = (6,6)) \n",
    "sns.set_color_codes('bright')\n",
    "bar_traits_3 = sns.barplot(x = x_pos, y = y_pos, label = 'trait', palette = 'husl')\n",
    "plt.show()"
   ]
  },
  {
   "cell_type": "code",
   "execution_count": 354,
   "metadata": {
    "scrolled": true
   },
   "outputs": [
    {
     "data": {
      "text/plain": [
       "<AxesSubplot:ylabel='Num_traits'>"
      ]
     },
     "execution_count": 354,
     "metadata": {},
     "output_type": "execute_result"
    },
    {
     "data": {
      "image/png": "[encoded data removed]",
      "text/plain": [
       "<Figure size 720x360 with 3 Axes>"
      ]
     },
     "metadata": {
      "needs_background": "light"
     },
     "output_type": "display_data"
    }
   ],
   "source": [
    " "
   ]
  },
  {
   "cell_type": "code",
   "execution_count": 358,
   "metadata": {
    "collapsed": true
   },
   "outputs": [
    {
     "data": {
      "text/html": [
       "<div>\n",
       "<style scoped>\n",
       "    .dataframe tbody tr th:only-of-type {\n",
       "        vertical-align: middle;\n",
       "    }\n",
       "\n",
       "    .dataframe tbody tr th {\n",
       "        vertical-align: top;\n",
       "    }\n",
       "\n",
       "    .dataframe thead th {\n",
       "        text-align: right;\n",
       "    }\n",
       "</style>\n",
       "<table border=\"1\" class=\"dataframe\">\n",
       "  <thead>\n",
       "    <tr style=\"text-align: right;\">\n",
       "      <th></th>\n",
       "      <th>id</th>\n",
       "      <th>id_punk_tipus</th>\n",
       "      <th>owner</th>\n",
       "      <th>new_owner</th>\n",
       "      <th>transaction</th>\n",
       "      <th>amount</th>\n",
       "      <th>Amount_dollars</th>\n",
       "      <th>type_transaction_id</th>\n",
       "      <th>Num_traits</th>\n",
       "    </tr>\n",
       "  </thead>\n",
       "  <tbody>\n",
       "    <tr>\n",
       "      <th>29141</th>\n",
       "      <td>39694</td>\n",
       "      <td>3100</td>\n",
       "      <td>0x6611fE</td>\n",
       "      <td>0x7b8961</td>\n",
       "      <td>2021-03-11 00:00:00</td>\n",
       "      <td>4200</td>\n",
       "      <td>7668318</td>\n",
       "      <td>3</td>\n",
       "      <td>1</td>\n",
       "    </tr>\n",
       "    <tr>\n",
       "      <th>85684</th>\n",
       "      <td>116512</td>\n",
       "      <td>7804</td>\n",
       "      <td>0x03911f</td>\n",
       "      <td>0xf4b4a5</td>\n",
       "      <td>2021-03-11 00:00:00</td>\n",
       "      <td>4200</td>\n",
       "      <td>7668318</td>\n",
       "      <td>3</td>\n",
       "      <td>3</td>\n",
       "    </tr>\n",
       "    <tr>\n",
       "      <th>29142</th>\n",
       "      <td>39695</td>\n",
       "      <td>3100</td>\n",
       "      <td>0x7b8961</td>\n",
       "      <td>None</td>\n",
       "      <td>2021-03-11 00:00:00</td>\n",
       "      <td>4200</td>\n",
       "      <td>7668318</td>\n",
       "      <td>2</td>\n",
       "      <td>1</td>\n",
       "    </tr>\n",
       "    <tr>\n",
       "      <th>75432</th>\n",
       "      <td>102567</td>\n",
       "      <td>6965</td>\n",
       "      <td>0xC6f2D8</td>\n",
       "      <td>None</td>\n",
       "      <td>2021-08-25 00:00:00</td>\n",
       "      <td>2200</td>\n",
       "      <td>7101930</td>\n",
       "      <td>2</td>\n",
       "      <td>1</td>\n",
       "    </tr>\n",
       "    <tr>\n",
       "      <th>75435</th>\n",
       "      <td>102571</td>\n",
       "      <td>6965</td>\n",
       "      <td>0xC6f2D8</td>\n",
       "      <td>None</td>\n",
       "      <td>2021-08-23 00:00:00</td>\n",
       "      <td>2000</td>\n",
       "      <td>6638980</td>\n",
       "      <td>2</td>\n",
       "      <td>1</td>\n",
       "    </tr>\n",
       "    <tr>\n",
       "      <th>...</th>\n",
       "      <td>...</td>\n",
       "      <td>...</td>\n",
       "      <td>...</td>\n",
       "      <td>...</td>\n",
       "      <td>...</td>\n",
       "      <td>...</td>\n",
       "      <td>...</td>\n",
       "      <td>...</td>\n",
       "      <td>...</td>\n",
       "    </tr>\n",
       "    <tr>\n",
       "      <th>61834</th>\n",
       "      <td>84187</td>\n",
       "      <td>5913</td>\n",
       "      <td>0x034B46</td>\n",
       "      <td>None</td>\n",
       "      <td>2021-05-13 00:00:00</td>\n",
       "      <td>49</td>\n",
       "      <td>182261</td>\n",
       "      <td>2</td>\n",
       "      <td>3</td>\n",
       "    </tr>\n",
       "    <tr>\n",
       "      <th>61833</th>\n",
       "      <td>84186</td>\n",
       "      <td>5913</td>\n",
       "      <td>0x034B46</td>\n",
       "      <td>None</td>\n",
       "      <td>2021-05-13 00:00:00</td>\n",
       "      <td>49</td>\n",
       "      <td>182261</td>\n",
       "      <td>2</td>\n",
       "      <td>3</td>\n",
       "    </tr>\n",
       "    <tr>\n",
       "      <th>52598</th>\n",
       "      <td>71628</td>\n",
       "      <td>5087</td>\n",
       "      <td>0x8bE6ad</td>\n",
       "      <td>0x04df8d</td>\n",
       "      <td>2021-08-23 00:00:00</td>\n",
       "      <td>55</td>\n",
       "      <td>182240</td>\n",
       "      <td>3</td>\n",
       "      <td>2</td>\n",
       "    </tr>\n",
       "    <tr>\n",
       "      <th>41621</th>\n",
       "      <td>56687</td>\n",
       "      <td>4093</td>\n",
       "      <td>0xCEB63c</td>\n",
       "      <td>None</td>\n",
       "      <td>2021-08-10 00:00:00</td>\n",
       "      <td>58</td>\n",
       "      <td>182161</td>\n",
       "      <td>1</td>\n",
       "      <td>3</td>\n",
       "    </tr>\n",
       "    <tr>\n",
       "      <th>41622</th>\n",
       "      <td>56688</td>\n",
       "      <td>4093</td>\n",
       "      <td>0xCEB63c</td>\n",
       "      <td>None</td>\n",
       "      <td>2021-08-10 00:00:00</td>\n",
       "      <td>58</td>\n",
       "      <td>182161</td>\n",
       "      <td>2</td>\n",
       "      <td>3</td>\n",
       "    </tr>\n",
       "  </tbody>\n",
       "</table>\n",
       "<p>3402 rows × 9 columns</p>\n",
       "</div>"
      ],
      "text/plain": [
       "           id  id_punk_tipus     owner new_owner          transaction  amount  \\\n",
       "29141   39694           3100  0x6611fE  0x7b8961  2021-03-11 00:00:00    4200   \n",
       "85684  116512           7804  0x03911f  0xf4b4a5  2021-03-11 00:00:00    4200   \n",
       "29142   39695           3100  0x7b8961      None  2021-03-11 00:00:00    4200   \n",
       "75432  102567           6965  0xC6f2D8      None  2021-08-25 00:00:00    2200   \n",
       "75435  102571           6965  0xC6f2D8      None  2021-08-23 00:00:00    2000   \n",
       "...       ...            ...       ...       ...                  ...     ...   \n",
       "61834   84187           5913  0x034B46      None  2021-05-13 00:00:00      49   \n",
       "61833   84186           5913  0x034B46      None  2021-05-13 00:00:00      49   \n",
       "52598   71628           5087  0x8bE6ad  0x04df8d  2021-08-23 00:00:00      55   \n",
       "41621   56687           4093  0xCEB63c      None  2021-08-10 00:00:00      58   \n",
       "41622   56688           4093  0xCEB63c      None  2021-08-10 00:00:00      58   \n",
       "\n",
       "       Amount_dollars  type_transaction_id  Num_traits  \n",
       "29141         7668318                    3           1  \n",
       "85684         7668318                    3           3  \n",
       "29142         7668318                    2           1  \n",
       "75432         7101930                    2           1  \n",
       "75435         6638980                    2           1  \n",
       "...               ...                  ...         ...  \n",
       "61834          182261                    2           3  \n",
       "61833          182261                    2           3  \n",
       "52598          182240                    3           2  \n",
       "41621          182161                    1           3  \n",
       "41622          182161                    2           3  \n",
       "\n",
       "[3402 rows x 9 columns]"
      ]
     },
     "execution_count": 358,
     "metadata": {},
     "output_type": "execute_result"
    }
   ],
   "source": [
    "orderd"
   ]
  },
  {
   "cell_type": "code",
   "execution_count": null,
   "metadata": {},
   "outputs": [],
   "source": []
  }
 ],
 "metadata": {
  "kernelspec": {
   "display_name": "Python 3",
   "language": "python",
   "name": "python3"
  },
  "language_info": {
   "codemirror_mode": {
    "name": "ipython",
    "version": 3
   },
   "file_extension": ".py",
   "mimetype": "text/x-python",
   "name": "python",
   "nbconvert_exporter": "python",
   "pygments_lexer": "ipython3",
   "version": "3.8.5"
  }
 },
 "nbformat": 4,
 "nbformat_minor": 4
}
